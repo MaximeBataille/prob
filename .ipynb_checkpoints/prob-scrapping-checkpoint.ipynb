{
 "cells": [
  {
   "cell_type": "code",
   "execution_count": 14,
   "metadata": {},
   "outputs": [],
   "source": [
    "from bs4 import BeautifulSoup\n",
    "import requests\n",
    "import os\n",
    "import re\n",
    "import json"
   ]
  },
  {
   "cell_type": "markdown",
   "metadata": {},
   "source": [
    "pattern of urls"
   ]
  },
  {
   "cell_type": "code",
   "execution_count": 15,
   "metadata": {},
   "outputs": [],
   "source": [
    "start_p = 201615922\n",
    "end_p = 201616128"
   ]
  },
  {
   "cell_type": "markdown",
   "metadata": {},
   "source": [
    "list of urls"
   ]
  },
  {
   "cell_type": "code",
   "execution_count": 16,
   "metadata": {},
   "outputs": [],
   "source": [
    "urls = []\n",
    "for id in range(start_p, end_p + 1) :\n",
    "    urls.append('https://www.lnb.fr/fr/prob/match/quimper-paris-' + str(id) + '.html')"
   ]
  },
  {
   "cell_type": "markdown",
   "metadata": {},
   "source": [
    "Scrapping data for each url"
   ]
  },
  {
   "cell_type": "code",
   "execution_count": 42,
   "metadata": {},
   "outputs": [],
   "source": [
    "actionsArr = []\n",
    "matchArr = []\n",
    "\n",
    "match_id = 0\n",
    "for url in urls :\n",
    "    response = requests.get(url)\n",
    "    content = BeautifulSoup(response.content, 'html.parser')\n",
    "    \n",
    "    #Scrapping Actions\n",
    "    \n",
    "    #extracting tags\n",
    "    date = content.findAll('p', {'class' : 'date'})\n",
    "    day = content.find('p', {'class' : 'th-day'})\n",
    "    teams = content.find('title')\n",
    "    \n",
    "    actions_type = content.findAll('p', {'class' : 'action'})\n",
    "    player_number = content.findAll('span', {'class' : 'number'})\n",
    "    time = content.findAll('span', {'class' : 'time'})\n",
    "    score = content.findAll('span', {'class' : 'point'})\n",
    "    player_name = content.findAll('span', {'class' : 'name'})\n",
    "\n",
    "    #extracting content\n",
    "    date = re.search(\"([0-9]{2}\\.[0-9]{2}\\.[0-9]{4})\", date[0].text)[0]\n",
    "    day = int(re.search(\"\\d+\",  day.text)[0])\n",
    "    home = teams.text[:-10].split(' - ')[0]\n",
    "    away = teams.text[:-10].split(' - ')[1]\n",
    "    \n",
    "    #correct error of the LNB website\n",
    "    home = 'Paris' if home == 'Pari' else home\n",
    "    away = 'Paris' if away == 'Pari' else away\n",
    "\n",
    "    n_act = len(actions_type)\n",
    "    period = 1\n",
    "    mem_time = 601 \n",
    "    for i in range(n_act) :\n",
    "\n",
    "        #modifying some features\n",
    "        #conversion in seconds\n",
    "        new_time = int(re.search('[0-9]{2}', time[i].text)[0]) * 60 + int(re.search('\\:[0-9]{2}', time[i].text)[0][1:])\n",
    "    \n",
    "        #parsing home/away score\n",
    "        home_score = int(re.search('[0-9]+', score[i].text)[0])\n",
    "        away_score = int(re.search('\\-[0-9]+', score[i].text)[0][1:])\n",
    "        \n",
    "        #defining period\n",
    "        period = period+1 if new_time > mem_time else period\n",
    "        period = 5 if period > 4 else period\n",
    "        \n",
    "        actionObject = {\n",
    "            'id' : i,\n",
    "            'match id' : match_id,\n",
    "            'date' : date,\n",
    "            'day' : day,\n",
    "            'home' : home,\n",
    "            'away' : away,\n",
    "            'period' : period,\n",
    "            'action_type' : actions_type[i].text,\n",
    "            'player_number' : player_number[i].text[:-1],\n",
    "            'time' : new_time,\n",
    "            'home_score' : home_score,\n",
    "            'away_score' : away_score,\n",
    "            'player_name' : player_name[i].text[1:]\n",
    "        }\n",
    "        \n",
    "        mem_time = new_time\n",
    "        actionsArr.append(actionObject)\n",
    "        \n",
    "    #Scrapping Table\n",
    "    endHS = home_score\n",
    "    endAS = away_score\n",
    "    data1 = content.findAll('table')[0].findAll('td')\n",
    "    data2 = content.findAll('table')[1].findAll('td')\n",
    "    \n",
    "    for tab in [data1, data2] : \n",
    "        i = 0 #player 0\n",
    "        total_points = 0\n",
    "        endPts = endHS if tab == data1 else endAS\n",
    "        team = home if tab == data1 else away #home_team\n",
    "        away_team = away if tab == data1 else home #away_team\n",
    "        while total_points <= endPts :\n",
    "            \n",
    "            if tab[i].text == 'TOTAL': #stop while loop after all players data have been processed\n",
    "                break\n",
    "            p_name = tab[i+1].text.replace('\\n', '').strip()\n",
    "            p_number = None if tab[i].text == '' else int(re.search('[0-9]+' ,tab[i].text)[0])\n",
    "            start = 1 if tab[i+2].text.replace('\\n', '').strip() == '*' else 0\n",
    "            minu = 0 if tab[i+3].text == '' else int(tab[i+3].text)\n",
    "            played = 0 if (minu == 0 or minu == '') else 1\n",
    "            pts = 0 if tab[i+4].text == '' else int(tab[i+4].text)\n",
    "\n",
    "            PM = 0 if tab[i+5].text == '' else int(re.search('[0-9]+', tab[i+5].text)[0])\n",
    "            PA = 0 if tab[i+5].text == '' else int(re.search('\\-\\s[0-9]+', tab[i+5].text)[0][2:])\n",
    "\n",
    "            P3M = 0 if tab[i+7].text == '' else int(re.search('[0-9]+', tab[i+7].text)[0])\n",
    "            P3A = 0 if tab[i+7].text == '' else int(re.search('\\-\\s[0-9]+', tab[i+7].text)[0][2:])\n",
    "            P3p = None if P3A == 0 else float(tab[i+8].text)\n",
    "\n",
    "            P2M = PM - P3M\n",
    "            P2A = PA - P3A\n",
    "            P2p = None if P2A == 0 else round(P2M/P2A, 1)\n",
    "\n",
    "            FTM = 0 if tab [i+9].text == '' else int(re.search('[0-9]+', tab[i+9].text)[0])\n",
    "            FTA = 0 if tab[i+9].text == '' else int(re.search('\\-\\s[0-9]+', tab[i+9].text)[0][2:])\n",
    "            FTp = None if FTA == 0 else float(tab[i+10].text)\n",
    "\n",
    "            OREB = int(tab[i+11].text)\n",
    "            DREB = int(tab[i+12].text)\n",
    "\n",
    "            BLK = 0 if tab[i+14].text == '' else int(tab[i+14].text)\n",
    "            ABLK = 0 if tab[i+14].text == '' else int(tab[i+15].text) #block contre\n",
    "            AST = 0 if tab[i+16].text == '' else int(tab[i+16].text)\n",
    "            STL = int(tab[i+17].text)\n",
    "            TOV = int(tab[i+18].text)\n",
    "            PF = int(tab[i+19].text)\n",
    "            AF = int(tab[i+20].text) #fautes contres\n",
    "            EV = int(tab[i+21].text) #evaluation\n",
    "\n",
    "            playerObject = {\n",
    "                'match_id' : match_id,\n",
    "                'date' : date,\n",
    "                'day' : day,\n",
    "                'Team' : team,\n",
    "                'away_team' : away_team,\n",
    "                'Player_number' : p_number,\n",
    "                'Player_name' : p_name,\n",
    "                'start_5' : start,\n",
    "                'MIN' : minu,\n",
    "                'PLAYED' : played,\n",
    "                'PTS' : pts,\n",
    "                'P3M' : P3M,\n",
    "                'P3A' : P3A,\n",
    "                'P3p' : P3p,\n",
    "                'P2M' : P2M,\n",
    "                'P2A' : P2A,\n",
    "                'P2p' : P2p,\n",
    "                'FTM' : FTM,\n",
    "                'FTA' : FTA,\n",
    "                'FTp' : FTp,\n",
    "                'OREB' : OREB,\n",
    "                'DREB' : DREB,\n",
    "                'BLK' : BLK,\n",
    "                'ABLK' : ABLK,\n",
    "                'AST' : AST,\n",
    "                'STL' : STL,\n",
    "                'TOV' : TOV,\n",
    "                'PF' : PF,\n",
    "                'AF' : AF,\n",
    "                'EV' : EV\n",
    "            }\n",
    "            \n",
    "            matchArr.append(playerObject)\n",
    "            i+=22 #next player\n",
    "            total_points +=pts\n",
    "            \n",
    "            #for JSON file\n",
    "            probData = {'matchs' : \n",
    "                            matchArr\n",
    "                        ,\n",
    "                        'actions' :\n",
    "                            actionsArr\n",
    "                        }\n",
    "    \n",
    "    match_id += 1\n",
    "    \n",
    "with open('probData.json', 'w') as outfile:\n",
    "    json.dump(probData, outfile)\n"
   ]
  },
  {
   "cell_type": "code",
   "execution_count": null,
   "metadata": {},
   "outputs": [],
   "source": []
  },
  {
   "cell_type": "code",
   "execution_count": null,
   "metadata": {},
   "outputs": [],
   "source": []
  },
  {
   "cell_type": "code",
   "execution_count": null,
   "metadata": {},
   "outputs": [],
   "source": []
  },
  {
   "cell_type": "code",
   "execution_count": null,
   "metadata": {},
   "outputs": [],
   "source": []
  },
  {
   "cell_type": "code",
   "execution_count": null,
   "metadata": {},
   "outputs": [],
   "source": []
  },
  {
   "cell_type": "code",
   "execution_count": null,
   "metadata": {},
   "outputs": [],
   "source": []
  },
  {
   "cell_type": "code",
   "execution_count": null,
   "metadata": {},
   "outputs": [],
   "source": []
  },
  {
   "cell_type": "code",
   "execution_count": null,
   "metadata": {},
   "outputs": [],
   "source": []
  },
  {
   "cell_type": "code",
   "execution_count": null,
   "metadata": {},
   "outputs": [],
   "source": []
  },
  {
   "cell_type": "code",
   "execution_count": null,
   "metadata": {},
   "outputs": [],
   "source": []
  },
  {
   "cell_type": "code",
   "execution_count": null,
   "metadata": {},
   "outputs": [],
   "source": []
  },
  {
   "cell_type": "code",
   "execution_count": null,
   "metadata": {},
   "outputs": [],
   "source": []
  },
  {
   "cell_type": "code",
   "execution_count": null,
   "metadata": {},
   "outputs": [],
   "source": []
  },
  {
   "cell_type": "code",
   "execution_count": null,
   "metadata": {},
   "outputs": [],
   "source": []
  },
  {
   "cell_type": "code",
   "execution_count": null,
   "metadata": {},
   "outputs": [],
   "source": []
  },
  {
   "cell_type": "code",
   "execution_count": null,
   "metadata": {},
   "outputs": [],
   "source": []
  },
  {
   "cell_type": "code",
   "execution_count": null,
   "metadata": {},
   "outputs": [],
   "source": []
  },
  {
   "cell_type": "code",
   "execution_count": null,
   "metadata": {},
   "outputs": [],
   "source": []
  },
  {
   "cell_type": "code",
   "execution_count": null,
   "metadata": {},
   "outputs": [],
   "source": []
  },
  {
   "cell_type": "code",
   "execution_count": null,
   "metadata": {},
   "outputs": [],
   "source": []
  },
  {
   "cell_type": "code",
   "execution_count": null,
   "metadata": {},
   "outputs": [],
   "source": []
  },
  {
   "cell_type": "code",
   "execution_count": null,
   "metadata": {},
   "outputs": [],
   "source": []
  },
  {
   "cell_type": "code",
   "execution_count": null,
   "metadata": {},
   "outputs": [],
   "source": []
  },
  {
   "cell_type": "code",
   "execution_count": null,
   "metadata": {},
   "outputs": [],
   "source": []
  },
  {
   "cell_type": "code",
   "execution_count": null,
   "metadata": {},
   "outputs": [],
   "source": []
  },
  {
   "cell_type": "code",
   "execution_count": null,
   "metadata": {},
   "outputs": [],
   "source": []
  },
  {
   "cell_type": "code",
   "execution_count": null,
   "metadata": {},
   "outputs": [],
   "source": []
  },
  {
   "cell_type": "code",
   "execution_count": null,
   "metadata": {},
   "outputs": [],
   "source": []
  },
  {
   "cell_type": "code",
   "execution_count": null,
   "metadata": {},
   "outputs": [],
   "source": []
  },
  {
   "cell_type": "code",
   "execution_count": null,
   "metadata": {},
   "outputs": [],
   "source": []
  },
  {
   "cell_type": "code",
   "execution_count": null,
   "metadata": {},
   "outputs": [],
   "source": []
  },
  {
   "cell_type": "code",
   "execution_count": null,
   "metadata": {},
   "outputs": [],
   "source": []
  }
 ],
 "metadata": {
  "kernelspec": {
   "display_name": "Python 3",
   "language": "python",
   "name": "python3"
  },
  "language_info": {
   "codemirror_mode": {
    "name": "ipython",
    "version": 3
   },
   "file_extension": ".py",
   "mimetype": "text/x-python",
   "name": "python",
   "nbconvert_exporter": "python",
   "pygments_lexer": "ipython3",
   "version": "3.7.4"
  }
 },
 "nbformat": 4,
 "nbformat_minor": 2
}
